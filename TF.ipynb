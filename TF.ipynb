{
  "nbformat": 4,
  "nbformat_minor": 0,
  "metadata": {
    "colab": {
      "provenance": [],
      "toc_visible": true,
      "include_colab_link": true
    },
    "kernelspec": {
      "name": "python3",
      "display_name": "Python 3"
    },
    "language_info": {
      "name": "python"
    }
  },
  "cells": [
    {
      "cell_type": "markdown",
      "metadata": {
        "id": "view-in-github",
        "colab_type": "text"
      },
      "source": [
        "<a href=\"https://colab.research.google.com/github/jplima0707/trabalho-final---Python/blob/main/TF.ipynb\" target=\"_parent\"><img src=\"https://colab.research.google.com/assets/colab-badge.svg\" alt=\"Open In Colab\"/></a>"
      ]
    },
    {
      "cell_type": "markdown",
      "source": [
        "## 1. Integrantes, vídeo e imports\n"
      ],
      "metadata": {
        "id": "RegCOB8-4Xwm"
      }
    },
    {
      "cell_type": "code",
      "execution_count": null,
      "metadata": {
        "id": "h4Jt7aUd4DO2"
      },
      "outputs": [],
      "source": [
        "# João Pedro Benevides Lima\n",
        "# Luiz Felipe Porto Lara de Oliveira\n",
        "# Nicoli Silveira da Silva\n",
        "https://youtu.be/tzW9skC48aI\n",
        "\n",
        "\n",
        "import math\n",
        "import matplotlib.pyplot as plt\n",
        "from tabulate import tabulate"
      ]
    },
    {
      "cell_type": "markdown",
      "source": [
        "## 2. Leitura e tratamento dos dados"
      ],
      "metadata": {
        "id": "sKReNGsA4ia3"
      }
    },
    {
      "cell_type": "code",
      "source": [
        "listing = []\n",
        "with open('/content/IPCA15 - Variação mensal, acumulada no ano e peso mensal, segundo o índice geral e os grupos de prod.csv') as csv:\n",
        "  csv.readline()\n",
        "  csv.readline()\n",
        "  csv.readline()\n",
        "  csv.readline()\n",
        "  for line in csv:\n",
        "    vals = line.split(',')\n",
        "    info = [(vals[0]), float(vals[1]), float(vals[2]), float(vals[3])]\n",
        "    listing.append(info)\n",
        "\n",
        "# Tabulação de dados\n",
        "print('IPCA15 - Variação mensal, acumulada no ano e peso mensal, segundo o índice geral e os grupos de produtos e serviços')\n",
        "print(tabulate(listing, headers=['Grupos de produtos e serviços','Variação mensal (%)','Variação acumulada no ano (%)','Peso mensal (%)'], tablefmt='fancy_grid'))"
      ],
      "metadata": {
        "colab": {
          "base_uri": "https://localhost:8080/"
        },
        "id": "PpxSgaGz3ncY",
        "outputId": "5de98c39-9182-4bc7-c5a4-468497fe4c69"
      },
      "execution_count": null,
      "outputs": [
        {
          "output_type": "stream",
          "name": "stdout",
          "text": [
            "IPCA15 - Variação mensal, acumulada no ano e peso mensal, segundo o índice geral e os grupos de produtos e serviços\n",
            "╒═════════════════════════════════╤═══════════════════════╤═════════════════════════════════╤═══════════════════╕\n",
            "│ Grupos de produtos e serviços   │   Variação mensal (%) │   Variação acumulada no ano (%) │   Peso mensal (%) │\n",
            "╞═════════════════════════════════╪═══════════════════════╪═════════════════════════════════╪═══════════════════╡\n",
            "│ Alimentação e bebidas           │                  0.54 │                           11.2  │           21.8222 │\n",
            "├─────────────────────────────────┼───────────────────────┼─────────────────────────────────┼───────────────────┤\n",
            "│ Habitação                       │                  0.48 │                           -0.17 │           15.3306 │\n",
            "├─────────────────────────────────┼───────────────────────┼─────────────────────────────────┼───────────────────┤\n",
            "│ Artigos de residência           │                  0.54 │                            8.89 │            3.9835 │\n",
            "├─────────────────────────────────┼───────────────────────┼─────────────────────────────────┼───────────────────┤\n",
            "│ Vestuário                       │                  1.48 │                           17.04 │            4.719  │\n",
            "├─────────────────────────────────┼───────────────────────┼─────────────────────────────────┼───────────────────┤\n",
            "│ Transportes                     │                  0.49 │                           -1.85 │           20.4523 │\n",
            "├─────────────────────────────────┼───────────────────────┼─────────────────────────────────┼───────────────────┤\n",
            "│ Saúde e cuidados pessoais       │                  0.91 │                           10.79 │           12.8937 │\n",
            "├─────────────────────────────────┼───────────────────────┼─────────────────────────────────┼───────────────────┤\n",
            "│ Despesas pessoais               │                  0.27 │                            7.13 │           10.1453 │\n",
            "├─────────────────────────────────┼───────────────────────┼─────────────────────────────────┼───────────────────┤\n",
            "│ Educação                        │                  0.05 │                            7.37 │            5.7652 │\n",
            "├─────────────────────────────────┼───────────────────────┼─────────────────────────────────┼───────────────────┤\n",
            "│ Comunicação                     │                  0    │                           -1.35 │            4.8882 │\n",
            "╘═════════════════════════════════╧═══════════════════════╧═════════════════════════════════╧═══════════════════╛\n"
          ]
        }
      ]
    },
    {
      "cell_type": "markdown",
      "source": [
        "## 3 . Totalização de dados"
      ],
      "metadata": {
        "id": "gFA_b_c04EcJ"
      }
    },
    {
      "cell_type": "code",
      "source": [
        "sum = 0\n",
        "count = 0\n",
        "avg = 0\n",
        "for info in listing:\n",
        "  sum += info[1]\n",
        "  count += 1\n",
        "avg = sum/count\n",
        "print('--------------------------------------------------------')\n",
        "print(f'Índice geral de variação mensal: {avg:.2f}%')\n",
        "print('--------------------------------------------------------')"
      ],
      "metadata": {
        "colab": {
          "base_uri": "https://localhost:8080/"
        },
        "id": "0lhxy_JO3txW",
        "outputId": "6a36688d-3282-4c01-b946-1729ded495f3"
      },
      "execution_count": null,
      "outputs": [
        {
          "output_type": "stream",
          "name": "stdout",
          "text": [
            "--------------------------------------------------------\n",
            "Índice geral de variação mensal: 0.53%\n",
            "--------------------------------------------------------\n"
          ]
        }
      ]
    },
    {
      "cell_type": "markdown",
      "source": [
        "## 4. Filtração de dados"
      ],
      "metadata": {
        "id": "UQznJDLp4wp0"
      }
    },
    {
      "cell_type": "code",
      "source": [
        "filterListing = []\n",
        "for info in listing:\n",
        "  if info[1] > 0.5:\n",
        "    filterListing.append(info)\n",
        "print('Tabela após filtragem:')\n",
        "print(tabulate(filterListing, headers=['Grupos de produtos e serviços','Variação mensal (%)','Variação acumulada no ano (%)','Peso mensal (%)'], tablefmt='fancy_grid'))"
      ],
      "metadata": {
        "colab": {
          "base_uri": "https://localhost:8080/"
        },
        "id": "7yZQOZvC3_L2",
        "outputId": "cacb691c-6198-4220-93d4-d257bc3a1d4e"
      },
      "execution_count": null,
      "outputs": [
        {
          "output_type": "stream",
          "name": "stdout",
          "text": [
            "Tabela após filtragem:\n",
            "╒═════════════════════════════════╤═══════════════════════╤═════════════════════════════════╤═══════════════════╕\n",
            "│ Grupos de produtos e serviços   │   Variação mensal (%) │   Variação acumulada no ano (%) │   Peso mensal (%) │\n",
            "╞═════════════════════════════════╪═══════════════════════╪═════════════════════════════════╪═══════════════════╡\n",
            "│ Alimentação e bebidas           │                  0.54 │                           11.2  │           21.8222 │\n",
            "├─────────────────────────────────┼───────────────────────┼─────────────────────────────────┼───────────────────┤\n",
            "│ Artigos de residência           │                  0.54 │                            8.89 │            3.9835 │\n",
            "├─────────────────────────────────┼───────────────────────┼─────────────────────────────────┼───────────────────┤\n",
            "│ Vestuário                       │                  1.48 │                           17.04 │            4.719  │\n",
            "├─────────────────────────────────┼───────────────────────┼─────────────────────────────────┼───────────────────┤\n",
            "│ Saúde e cuidados pessoais       │                  0.91 │                           10.79 │           12.8937 │\n",
            "╘═════════════════════════════════╧═══════════════════════╧═════════════════════════════════╧═══════════════════╛\n"
          ]
        }
      ]
    },
    {
      "cell_type": "markdown",
      "source": [
        "## 5. Visualização gráfica"
      ],
      "metadata": {
        "id": "6apGxdB640zE"
      }
    },
    {
      "cell_type": "code",
      "source": [
        "myLabels = []\n",
        "pesoMensal = []\n",
        "for info in listing:\n",
        "  myLabels.append(info[0])\n",
        "  pesoMensal.append(info[3])\n",
        "\n",
        "plt.pie(pesoMensal, labels = myLabels)\n",
        "plt.title(\"Visualização da porcentagem dos pesos mensais:\")\n",
        "plt.show()"
      ],
      "metadata": {
        "colab": {
          "base_uri": "https://localhost:8080/",
          "height": 264
        },
        "id": "0r1M8pHf4C4N",
        "outputId": "4d880f64-fd99-4afc-969b-d802f474101a"
      },
      "execution_count": null,
      "outputs": [
        {
          "output_type": "display_data",
          "data": {
            "text/plain": [
              "<Figure size 432x288 with 1 Axes>"
            ],
            "image/png": "[encoded data removed]"
          },
          "metadata": {}
        }
      ]
    },
    {
      "cell_type": "markdown",
      "source": [
        "## 6. Consulta Adicional"
      ],
      "metadata": {
        "id": "qI-w0lPo45qU"
      }
    },
    {
      "cell_type": "code",
      "source": [
        "weightedAvg = 0\n",
        "variance = 0\n",
        "sd = 0\n",
        "\n",
        "for info in listing:\n",
        "  weightedAvg += (info[1] - avg)**2\n",
        "\n",
        "variance = weightedAvg / count\n",
        "sd = math.sqrt(variance)\n",
        "print('--------------------------------------------------------')\n",
        "print(f'Desvio padrão da variação mensal: {sd:.2f}')\n",
        "print('--------------------------------------------------------')"
      ],
      "metadata": {
        "colab": {
          "base_uri": "https://localhost:8080/"
        },
        "id": "C9hp_Hbg4GG0",
        "outputId": "821e1f1f-5398-444e-a1bf-2c80d280e26e"
      },
      "execution_count": null,
      "outputs": [
        {
          "output_type": "stream",
          "name": "stdout",
          "text": [
            "--------------------------------------------------------\n",
            "Desvio padrão da variação mensal: 0.43\n",
            "--------------------------------------------------------\n"
          ]
        }
      ]
    }
  ]
}